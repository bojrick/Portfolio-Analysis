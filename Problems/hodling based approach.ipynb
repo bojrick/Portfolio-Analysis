{
 "metadata": {
  "language_info": {
   "codemirror_mode": {
    "name": "ipython",
    "version": 3
   },
   "file_extension": ".py",
   "mimetype": "text/x-python",
   "name": "python",
   "nbconvert_exporter": "python",
   "pygments_lexer": "ipython3",
   "version": "3.8.3-final"
  },
  "orig_nbformat": 2,
  "kernelspec": {
   "name": "python3",
   "display_name": "Python 3"
  }
 },
 "nbformat": 4,
 "nbformat_minor": 2,
 "cells": [
  {
   "cell_type": "code",
   "execution_count": 546,
   "metadata": {},
   "outputs": [],
   "source": [
    "import pandas as pd\n",
    "import numpy as np\n",
    "import math\n",
    "\n",
    "#fundamentals of the OLN, MRVL and AON\n",
    "fundamentals = pd.read_csv('Data/funda OLN MRVL AON.csv')\n",
    "ceq = fundamentals[['datadate','fyear','tic','ceq']].dropna()\n",
    "ceq['datadate'] = ceq['datadate'].apply(lambda x:str(x)[:-2])\n",
    "\n",
    "#Distribution of Book equity/Market equity for all the years\n",
    "ME_BE_bp = pd.read_csv('Data/BE-ME_Breakpoints.csv',skiprows=2,skipfooter=1,names=list(np.arange(0,105,5))).dropna()\n",
    "ME_BE_bp.reset_index(inplace=True)#.rename({'index':'date'},axis=1)#ME_bp[ME_bp['Date']=='200501']\n",
    "ME_BE_bp.drop('level_1',inplace=True,axis=1)\n",
    "ME_BE_bp = ME_BE_bp.rename({'level_0':'date'},axis=1)\n",
    "ME_BE_bp['date'] = ME_BE_bp['date'].apply(lambda x:str(int(x))+'12')\n",
    "ME_BE_bp[0] = ME_BE_bp[0].astype(int)\n",
    "\n",
    "#Distribution of Market equity for all the years\n",
    "ME_bp = pd.read_csv('Data/ME_Breakpoints.csv',skiprows=1,skipfooter=1,names=list(np.arange(0,105,5)))\n",
    "ME_bp.reset_index(inplace=True)#.rename({'index':'date'},axis=1)#ME_bp[ME_bp['Date']=='200501']\n",
    "ME_bp = ME_bp.rename({'index':'date'},axis=1)\n",
    "\n",
    "#Returns of the 25 portfolios with combination of BE-ME and ME\n",
    "port_return = pd.read_csv('Data/25_Portfolios_5x5.csv',skiprows=15,skip_blank_lines=True,skipfooter=1)\n",
    "port_return['Unnamed: 0'] = port_return['Unnamed: 0'].apply(lambda x:\"\".join([s for s in str(x).split() if s.isdigit()])).dropna()\n",
    "port_return = port_return.rename({'Unnamed: 0':'date'},axis=1).head(2284)\n",
    "#port_return = port_return.astype(float)\n",
    "\n",
    "#monthly prices of OLN, MRVL, AON\n",
    "prices = pd.read_csv('Data/OLN MRVL AON.gz',compression='gzip')\n",
    "prices['TICKER'] = prices['TICKER'].replace({'AOC':'AON'})#.dropna()\n",
    "prices['MKTCAP'] = prices['PRC']*prices['SHROUT']/1000\n",
    "prices['date'] = prices['date'].apply(lambda x:str(x)[:-2])"
   ]
  },
  {
   "cell_type": "code",
   "execution_count": 547,
   "metadata": {},
   "outputs": [],
   "source": [
    "def f_ClosestVal(v_List, v_Number):\n",
    "    \"\"\"Takes an unsorted LIST of INTs and RETURNS INDEX of value closest to an INT\"\"\"\n",
    "    for _index, i in enumerate(v_List):\n",
    "        v_List[_index] = abs(v_Number - i)\n",
    "    return v_List.index(min(v_List))\n",
    "\n",
    "def get_returns(prices,date,ticker):\n",
    "    return prices.groupby(['date','TICKER']).get_group((date,ticker))['RET'].astype(float).values[0]*100"
   ]
  },
  {
   "cell_type": "code",
   "execution_count": 548,
   "metadata": {},
   "outputs": [],
   "source": [
    "def get_style(prices,ceq,date,ticker,style,percentile_table):\n",
    "    mv = prices.groupby(['date','TICKER']).get_group((date,ticker))['MKTCAP'].values\n",
    "    bv = ceq.groupby(['fyear','tic']).get_group((int(date[:-2]),ticker))['ceq'].values\n",
    "\n",
    "    if style=='ME':\n",
    "        me_bp_percentile = list(percentile_table[percentile_table['date'].astype(str)==date].values[0][1:])\n",
    "        idx = f_ClosestVal(me_bp_percentile, mv)\n",
    "        me_bp_percentile = list(percentile_table[percentile_table['date'].astype(str)==date].values[0][1:])\n",
    "\n",
    "    if style=='BE/ME':\n",
    "        me_bp_percentile = list(percentile_table[percentile_table['date'].astype(str)==date].values[0][1:])\n",
    "        idx = f_ClosestVal(me_bp_percentile, list(bv/mv)[0])\n",
    "        me_bp_percentile = list(percentile_table[percentile_table['date'].astype(str)==date].values[0][1:])\n",
    "    \n",
    "    return {'Date':date,\n",
    "            'Ticker':ticker,\n",
    "            'Market Value':mv[0],\n",
    "            'Book Value':bv[0],\n",
    "            'Book/Market':list(bv/mv)[0],\n",
    "            'Nearest Percentile':me_bp_percentile[idx],\n",
    "            'style':str(math.ceil(idx/4))+' '+style}"
   ]
  },
  {
   "cell_type": "code",
   "execution_count": 550,
   "metadata": {},
   "outputs": [
    {
     "output_type": "execute_result",
     "data": {
      "text/plain": [
       "     Date  Invested value $Million Ticker  Market Value  Book Value  \\\n",
       "0  200412                      200    OLN    1545.62784      356.00   \n",
       "1  200412                      100   MRVL    9573.99146     2497.43   \n",
       "2  200412                      200    AON    7550.61630     5103.00   \n",
       "\n",
       "   Book/Market  Nearest Percentile    style  Returns  \n",
       "0     0.230327               0.239  1 BE/ME   4.1667  \n",
       "1     0.260856               0.239  1 BE/ME  21.9825  \n",
       "2     0.675839               0.691  4 BE/ME  -4.3950  "
      ],
      "text/html": "<div>\n<style scoped>\n    .dataframe tbody tr th:only-of-type {\n        vertical-align: middle;\n    }\n\n    .dataframe tbody tr th {\n        vertical-align: top;\n    }\n\n    .dataframe thead th {\n        text-align: right;\n    }\n</style>\n<table border=\"1\" class=\"dataframe\">\n  <thead>\n    <tr style=\"text-align: right;\">\n      <th></th>\n      <th>Date</th>\n      <th>Invested value $Million</th>\n      <th>Ticker</th>\n      <th>Market Value</th>\n      <th>Book Value</th>\n      <th>Book/Market</th>\n      <th>Nearest Percentile</th>\n      <th>style</th>\n      <th>Returns</th>\n    </tr>\n  </thead>\n  <tbody>\n    <tr>\n      <th>0</th>\n      <td>200412</td>\n      <td>200</td>\n      <td>OLN</td>\n      <td>1545.62784</td>\n      <td>356.00</td>\n      <td>0.230327</td>\n      <td>0.239</td>\n      <td>1 BE/ME</td>\n      <td>4.1667</td>\n    </tr>\n    <tr>\n      <th>1</th>\n      <td>200412</td>\n      <td>100</td>\n      <td>MRVL</td>\n      <td>9573.99146</td>\n      <td>2497.43</td>\n      <td>0.260856</td>\n      <td>0.239</td>\n      <td>1 BE/ME</td>\n      <td>21.9825</td>\n    </tr>\n    <tr>\n      <th>2</th>\n      <td>200412</td>\n      <td>200</td>\n      <td>AON</td>\n      <td>7550.61630</td>\n      <td>5103.00</td>\n      <td>0.675839</td>\n      <td>0.691</td>\n      <td>4 BE/ME</td>\n      <td>-4.3950</td>\n    </tr>\n  </tbody>\n</table>\n</div>"
     },
     "metadata": {},
     "execution_count": 550
    }
   ],
   "source": [
    "answer_df = pd.DataFrame.from_dict({0:get_style(prices,ceq,'200512','OLN','BE/ME',ME_BE_bp),\n",
    "                                    1:get_style(prices,ceq,'200512','MRVL','BE/ME',ME_BE_bp),\n",
    "                                    2:get_style(prices,ceq,'200512','AON','BE/ME',ME_BE_bp)},orient='index')\n",
    "answer_df.insert(1,'Invested value $Million',[200,100,200])\n",
    "answer_df.insert(8,'Returns',[get_returns(prices,'200601',tick) for tick in ['OLN','MRVL','AON']])\n",
    "answer_df.head()"
   ]
  },
  {
   "cell_type": "code",
   "execution_count": 551,
   "metadata": {},
   "outputs": [
    {
     "output_type": "execute_result",
     "data": {
      "text/plain": [
       "     Date  Invested value $Million Ticker  Market Value  Book Value  \\\n",
       "0  200506                      200    OLN    1298.19552     426.600   \n",
       "1  200506                      100   MRVL   10609.38755    3046.097   \n",
       "2  200506                      200    AON    7958.11264    5303.000   \n",
       "\n",
       "   Book/Market  Nearest Percentile style  Returns  \n",
       "0     0.328610             1321.18  2 ME   4.1667  \n",
       "1     0.287113            11153.75  5 ME  21.9825  \n",
       "2     0.666364             7548.01  4 ME  -4.3950  "
      ],
      "text/html": "<div>\n<style scoped>\n    .dataframe tbody tr th:only-of-type {\n        vertical-align: middle;\n    }\n\n    .dataframe tbody tr th {\n        vertical-align: top;\n    }\n\n    .dataframe thead th {\n        text-align: right;\n    }\n</style>\n<table border=\"1\" class=\"dataframe\">\n  <thead>\n    <tr style=\"text-align: right;\">\n      <th></th>\n      <th>Date</th>\n      <th>Invested value $Million</th>\n      <th>Ticker</th>\n      <th>Market Value</th>\n      <th>Book Value</th>\n      <th>Book/Market</th>\n      <th>Nearest Percentile</th>\n      <th>style</th>\n      <th>Returns</th>\n    </tr>\n  </thead>\n  <tbody>\n    <tr>\n      <th>0</th>\n      <td>200506</td>\n      <td>200</td>\n      <td>OLN</td>\n      <td>1298.19552</td>\n      <td>426.600</td>\n      <td>0.328610</td>\n      <td>1321.18</td>\n      <td>2 ME</td>\n      <td>4.1667</td>\n    </tr>\n    <tr>\n      <th>1</th>\n      <td>200506</td>\n      <td>100</td>\n      <td>MRVL</td>\n      <td>10609.38755</td>\n      <td>3046.097</td>\n      <td>0.287113</td>\n      <td>11153.75</td>\n      <td>5 ME</td>\n      <td>21.9825</td>\n    </tr>\n    <tr>\n      <th>2</th>\n      <td>200506</td>\n      <td>200</td>\n      <td>AON</td>\n      <td>7958.11264</td>\n      <td>5303.000</td>\n      <td>0.666364</td>\n      <td>7548.01</td>\n      <td>4 ME</td>\n      <td>-4.3950</td>\n    </tr>\n  </tbody>\n</table>\n</div>"
     },
     "metadata": {},
     "execution_count": 551
    }
   ],
   "source": [
    "answer_df = pd.DataFrame.from_dict({0:get_style(prices,ceq,'200506','OLN','ME',ME_bp),\n",
    "                                    1:get_style(prices,ceq,'200506','MRVL','ME',ME_bp),\n",
    "                                    2:get_style(prices,ceq,'200506','AON','ME',ME_bp)},orient='index')\n",
    "answer_df.insert(1,'Invested value $Million',[200,100,200])\n",
    "answer_df.insert(8,'Returns',[get_returns(prices,'200601',tick) for tick in ['OLN','MRVL','AON']])\n",
    "answer_df.head()"
   ]
  }
 ]
}
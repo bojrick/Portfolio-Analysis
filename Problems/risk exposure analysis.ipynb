{
 "metadata": {
  "language_info": {
   "codemirror_mode": {
    "name": "ipython",
    "version": 3
   },
   "file_extension": ".py",
   "mimetype": "text/x-python",
   "name": "python",
   "nbconvert_exporter": "python",
   "pygments_lexer": "ipython3",
   "version": "3.8.3-final"
  },
  "orig_nbformat": 2,
  "kernelspec": {
   "name": "python3",
   "display_name": "Python 3"
  }
 },
 "nbformat": 4,
 "nbformat_minor": 2,
 "cells": [
  {
   "cell_type": "code",
   "execution_count": 1,
   "metadata": {},
   "outputs": [],
   "source": [
    "#https://towardsdatascience.com/efficient-frontier-optimize-portfolio-with-scipy-57456428323e\n",
    "import pandas as pd\n",
    "import statsmodels.api as sm\n",
    "import numpy as np\n",
    "from scipy.optimize import minimize\n",
    "import pulp\n",
    "from function_helper import *\n",
    "\n",
    "cols = ['Month', 'S/L', 'S/M', 'S/H', 'B/L', 'B/M', 'B/H', 'Russell 3000','T-Bill', 'RMRF', 'Term Spread', 'Yield Spread','change Oil Price']\n",
    "df = pd.read_csv('Data/hw3.csv',skiprows=1,skipfooter=1,names=cols).dropna()\n",
    "#Q1\n",
    "FF_factors = df[['RMRF', 'Term Spread', 'Yield Spread','change Oil Price']]\n",
    "\n",
    "\n",
    "excess_returns = df[['S/L','S/M','S/H','B/L','B/M','B/H']].subtract(df['T-Bill'],axis=0)\n",
    "excess_returns.insert(0,'Months',df['Month'])\n",
    "\n",
    "#Q2\n",
    "excess_returns_index = df[['S/L','S/M','S/H','B/L','B/M','B/H','Russell 3000']].subtract(df['T-Bill'].dropna(),axis=0)\n",
    "excess_returns_index.insert(0,'Months',df['Month'])\n",
    "\n",
    "ols_list = ols(excess_returns,FF_factors)\n",
    "ols_list_index = ols(excess_returns_index,FF_factors)"
   ]
  },
  {
   "source": [
    "Q1\n",
    "Minimize Portfolio varaince and target at least 12% per year in expected returns but,\n",
    "1. You would not take oil-price risk\n",
    "2. You would like your Portfolio to move one to one with the market."
   ],
   "cell_type": "markdown",
   "metadata": {}
  },
  {
   "cell_type": "code",
   "execution_count": 44,
   "metadata": {
    "tags": []
   },
   "outputs": [],
   "source": [
    "def optimize_1(returns_df,no_securities,risk_factors_df,ols_list, target_return=0.1):\n",
    "\n",
    "    init_guess = np.array(no_securities*[1./no_securities,])\n",
    "\n",
    "    bounds = ((-1.0, 1.5),) * no_securities\n",
    "\n",
    "    weights = minimize(factor_portfolio_variance, init_guess,\n",
    "                       args=(risk_factors_df,ols_list,), method='SLSQP',\n",
    "                       options={'disp': False},\n",
    "                       constraints=({'type': 'eq', 'fun': lambda inputs: np.sum(inputs)-1},\n",
    "                                    {'type': 'eq', \n",
    "                                    'args': (returns_df,),\n",
    "                                    'fun': lambda inputs, returns_df,:portfolio_return(weights=inputs,returns_df=returns_df)-target_return},\n",
    "                                    {'type':'eq',\n",
    "                                    'args':(risk_factors_df,ols_list,),\n",
    "                                    'fun':lambda inputs,risk_factors_df,ols_list:factor_portfolio_variance(weights=inputs,risk_factors_df=risk_factors_df,ols_list=ols_list)},\n",
    "\n",
    "                                    {'type':'eq',\n",
    "                                    'args':(risk_factors_df,ols_list,),\n",
    "                                    'fun':lambda inputs,risk_factors_df,ols_list:factor_cov(weights=inputs,risk_factors_df=risk_factors_df,ols_list=ols_list,factor_idx=1)},\n",
    "                                    {'type':'eq',\n",
    "                                    'args':(risk_factors_df,ols_list,),\n",
    "                                    'fun':lambda inputs,risk_factors_df,ols_list:factor_cov(weights=inputs,risk_factors_df=risk_factors_df,factor_idx=0,ols_list=ols_list)-0.8}),\n",
    "                       bounds=bounds)\n",
    "    return weights.x\n",
    "\n",
    "opt_weights = optimize_1(returns_df = excess_returns[['S/L','S/M','S/H','B/L','B/M','B/H']],\n",
    "        no_securities=6,\n",
    "        risk_factors_df=FF_factors,\n",
    "        ols_list=ols_list,\n",
    "        target_return=10/12)"
   ]
  },
  {
   "cell_type": "code",
   "execution_count": 45,
   "metadata": {},
   "outputs": [
    {
     "output_type": "stream",
     "name": "stdout",
     "text": [
      "residual matrix\n\n[10.708987961380439, 5.991602925449216, 8.207421864828664, 1.1009581144375429, 2.6191071457100206, 5.684358088583526]\n\n\nPortfolio Covariance\n\n\n\nOptimized Weights\nS/L   -0.593808\nS/M    0.108356\nS/H   -0.085596\nB/L    0.957426\nB/M   -0.124630\nB/H    0.738252\nName: Weights, dtype: float64\n\n\nPortfolio Factor Loadings\n[ 0.80190508 -0.16208816 -0.53113166 -0.01076262]\n\n\nPortfolio Excess Return\n0.8333333369124174\n\n\nPortfolio Variance\n4.45009691454162\n"
     ]
    }
   ],
   "source": [
    "display_answer(FF_factors,ols_list,excess_returns[['S/L','S/M','S/H','B/L','B/M','B/H']],opt_weights)"
   ]
  },
  {
   "source": [
    "Create Optimal Portfolio tracking Russell 3000 and earning at least 2% per year above expected return on the Russell 3000 by minimizing variance of the tracking errors"
   ],
   "cell_type": "markdown",
   "metadata": {}
  },
  {
   "cell_type": "code",
   "execution_count": 6,
   "metadata": {
    "tags": []
   },
   "outputs": [],
   "source": [
    "def optimize_2(returns_df,no_securities,risk_factors_df,ols_list, target_return=0.1):\n",
    "\n",
    "    init_guess = np.array(no_securities*[1./no_securities,])\n",
    "\n",
    "    #bounds = ((-1.5, 1.5),) * no_securities\n",
    "\n",
    "    weights = minimize(factor_portfolio_variance, init_guess,\n",
    "                       args=(risk_factors_df,ols_list,),method='SLSQP',\n",
    "                       options={'disp': False},\n",
    "                       constraints=({'type': 'eq', 'fun': lambda inputs: inputs[6]+1},\n",
    "                                    {'type': 'eq', 'fun': lambda inputs: np.sum(inputs)},\n",
    "                                    {'type': 'eq', \n",
    "                                    'args': (returns_df,),\n",
    "                                    'fun': lambda inputs, returns_df:(portfolio_return(weights=inputs,returns_df = returns_df))-target_return}))\n",
    "                                    #{'type':'eq',\n",
    "                                    #'args':(returns_df,),\n",
    "                                    #'fun':lambda inputs,returns_df:portfolio_variance(weights=inputs,returns_df=returns_df)}))\n",
    "                       #bounds=bounds)\n",
    "    return weights.x\n",
    "opt_weights_2 = optimize_2(returns_df = excess_returns_index[['S/L','S/M','S/H','B/L','B/M','B/H','Russell 3000']],#df[['S/L','S/M','S/H','B/L','B/M','B/H','Russell 3000']],\n",
    "        no_securities=7,\n",
    "        risk_factors_df=FF_factors,\n",
    "        ols_list=ols_list_index,\n",
    "        target_return=2/12)"
   ]
  },
  {
   "cell_type": "code",
   "execution_count": 7,
   "metadata": {},
   "outputs": [
    {
     "output_type": "stream",
     "name": "stdout",
     "text": [
      "residual matrix\n\n[10.708987961380439, 5.991602925449216, 8.207421864828664, 1.1009581144375429, 2.6191071457100206, 5.684358088583526, 0.08022564791136581]\n\n\nPortfolio Covariance\n\n\n\nOptimized Weights\nS/L            -0.037668\nS/M             0.274736\nS/H             0.235987\nB/L             0.347493\nB/M             0.067144\nB/H             0.112308\nRussell 3000   -1.000000\nName: Weights, dtype: float64\n\n\nPortfolio Factor Loadings\n[-0.00388205  0.05782232  0.11815809 -0.00458802]\n\n\nPortfolio Excess Return\n0.1666666666726447\n\n\nPortfolio Variance\n1.2078982943733179\n"
     ]
    }
   ],
   "source": [
    "display_answer(FF_factors,ols_list_index,excess_returns_index[['S/L','S/M','S/H','B/L','B/M','B/H','Russell 3000']],opt_weights_2)"
   ]
  },
  {
   "cell_type": "code",
   "execution_count": 39,
   "metadata": {},
   "outputs": [],
   "source": [
    "def optimize_3(returns_df,no_securities,risk_factors_df,ols_list, target_return):\n",
    "\n",
    "    init_guess = random_weights(no_securities)\n",
    "\n",
    "    bounds = ((-1.5, 1.5),) * no_securities\n",
    "\n",
    "    weights = minimize(factor_portfolio_variance, init_guess,\n",
    "                       args=(risk_factors_df,ols_list,), method='SLSQP',\n",
    "                       options={'disp': False},\n",
    "                       constraints=({'type': 'eq', 'fun': lambda inputs: inputs[6]+1},\n",
    "                                    {'type': 'eq', 'fun': lambda inputs: np.sum(inputs)},\n",
    "                                    {'type': 'eq', \n",
    "                                    'args': (returns_df,),\n",
    "                                    'fun': lambda inputs, returns_df:portfolio_return(weights=inputs,returns_df=returns_df)-target_return},\n",
    "                                    {'type':'eq',\n",
    "                                    'args':(risk_factors_df,ols_list,),\n",
    "                                    'fun':lambda inputs,risk_factors_df,ols_list:factor_cov(weights=inputs,risk_factors_df=risk_factors_df,ols_list=ols_list,factor_idx=1)},\n",
    "                                    {'type':'eq',\n",
    "                                    'args':(risk_factors_df,ols_list,),\n",
    "                                    'fun':lambda inputs,risk_factors_df,ols_list:factor_cov(weights=inputs,risk_factors_df=risk_factors_df,ols_list=ols_list,factor_idx=0)-0.8}),\n",
    "                       bounds=bounds)\n",
    "    return weights.x"
   ]
  },
  {
   "cell_type": "code",
   "execution_count": 42,
   "metadata": {
    "tags": []
   },
   "outputs": [],
   "source": [
    "opt_weights_3 = optimize_3(returns_df = excess_returns_index[['S/L','S/M','S/H','B/L','B/M','B/H','Russell 3000']],\n",
    "        no_securities=7,\n",
    "        risk_factors_df=FF_factors,\n",
    "        ols_list=ols_list_index,\n",
    "        target_return=0)"
   ]
  },
  {
   "cell_type": "code",
   "execution_count": 46,
   "metadata": {},
   "outputs": [
    {
     "output_type": "stream",
     "name": "stdout",
     "text": [
      "residual matrix\n\n[10.708987961380439, 5.991602925449216, 8.207421864828664, 1.1009581144375429, 2.6191071457100206, 5.684358088583526, 0.08022564791136581]\n\n\nPortfolio Covariance\n\n\n\nOptimized Weights\nS/L             1.500000\nS/M             1.500000\nS/H            -0.668327\nB/L            -0.151683\nB/M            -1.500000\nB/H             1.213504\nRussell 3000   -0.582633\nName: Weights, dtype: float64\n\n\nPortfolio Factor Loadings\n[ 1.89863693 -0.04914601  0.88155208 -0.02169349]\n\n\nPortfolio Excess Return\n1.0099074741806524\n\n\nPortfolio Variance\n11.27615083144794\n"
     ]
    }
   ],
   "source": [
    "display_answer(FF_factors,ols_list_index,excess_returns_index[['S/L','S/M','S/H','B/L','B/M','B/H','Russell 3000']],opt_weights_3)"
   ]
  },
  {
   "cell_type": "code",
   "execution_count": 56,
   "metadata": {},
   "outputs": [],
   "source": [
    "excess_returns_4 = pd.concat([df[['S/L','S/M','S/H','B/L','B/M','B/H']],df['Russell 3000']*2],axis=1).subtract(df['T-Bill'].dropna(),axis=0)\n",
    "excess_returns_4.insert(0,'Months',df['Month'])\n",
    "ols_list_index_4 = ols(excess_returns_4,FF_factors)"
   ]
  },
  {
   "cell_type": "code",
   "execution_count": 60,
   "metadata": {},
   "outputs": [],
   "source": [
    "def optimize_4(returns_df,no_securities,risk_factors_df,ols_list, target_return=0.1):\n",
    "\n",
    "    init_guess = random_weights(no_securities)\n",
    "\n",
    "    #bounds = ((-1, 1),) * no_securities\n",
    "\n",
    "    weights = minimize(factor_portfolio_variance, init_guess,\n",
    "                       args=(risk_factors_df,ols_list,), method='SLSQP',\n",
    "                       options={'disp': False},\n",
    "                       constraints=({'type': 'eq', 'fun': lambda inputs: inputs[6]+1},\n",
    "                                    {'type': 'eq', 'fun': lambda inputs: np.sum(inputs)}))\n",
    "                                    #{'type': 'eq', \n",
    "                                    #'args': (returns_df,),\n",
    "                                    #'fun': lambda inputs, returns_df:portfolio_return(weights=inputs,returns_df=returns_df)-target_return}))\n",
    "                                    #{'type':'eq',\n",
    "                                    #'args':(risk_factors_df,ols_list,),\n",
    "                                    #'fun':lambda inputs,risk_factors_df,ols_list:factor_cov(weights=inputs,risk_factors_df=risk_factors_df,ols_list=ols_list,factor_idx=0)},\n",
    "                                    #{'type':'eq',\n",
    "                                    #'args':(risk_factors_df,ols_list,),\n",
    "                                    #'fun':lambda inputs,risk_factors_df,ols_list:factor_cov(weights=inputs,risk_factors_df=risk_factors_df,ols_list=ols_list,factor_idx=3)}))\n",
    "                       #bounds=bounds)\n",
    "    return weights.x"
   ]
  },
  {
   "cell_type": "code",
   "execution_count": 61,
   "metadata": {},
   "outputs": [],
   "source": [
    "opt_weights_4 = optimize_4(returns_df = excess_returns_4[['S/L','S/M','S/H','B/L','B/M','B/H','Russell 3000']],\n",
    "        no_securities=7,\n",
    "        risk_factors_df=FF_factors,\n",
    "        ols_list=ols_list_index_4,\n",
    "        target_return=-12.04/12)"
   ]
  },
  {
   "cell_type": "code",
   "execution_count": 62,
   "metadata": {},
   "outputs": [
    {
     "output_type": "stream",
     "name": "stdout",
     "text": [
      "residual matrix\n\n[10.708987961380439, 5.991602925449216, 8.207421864828664, 1.1009581144375429, 2.6191071457100206, 5.684358088583526, 0.3708015916496651]\n\n\nPortfolio Covariance\n\n                    S/L        S/M        S/H        B/L        B/M  \\\nS/L           43.713678  25.980713  25.409368  25.292570  22.926939   \nS/M           25.980713  26.459981  20.021424  19.886148  18.043647   \nS/H           25.409368  20.021424  27.820944  19.459729  17.669747   \nB/L           25.292570  19.886148  19.459729  20.525508  17.584392   \nB/M           22.926939  18.043647  17.669747  17.584392  18.605216   \nB/H           24.003947  18.866188  18.476979  18.448381  16.757651   \nRussell 3000  49.891217  39.238756  38.377699  38.281898  34.725043   \n\n                    B/H  Russell 3000  \nS/L           24.003947     49.891217  \nS/M           18.866188     39.238756  \nS/H           18.476979     38.377699  \nB/L           18.448381     38.281898  \nB/M           16.757651     34.725043  \nB/H           23.291768     36.422329  \nRussell 3000  36.422329     75.932763  \n\n\nOptimized Weights\nS/L             0.491314\nS/M             0.163757\nS/H             0.077408\nB/L             0.568409\nB/M            -0.291814\nB/H            -0.009074\nRussell 3000   -1.000000\nName: Weights, dtype: float64\n\n\nPortfolio Factor Loadings\n[-0.79502574  0.19472623  0.18290164 -0.01872215]\n\n\nPortfolio Excess Return\n-1.0034210448129648\n\n\nPortfolio Variance\n4.378190058606165\n"
     ]
    }
   ],
   "source": [
    "display_answer(FF_factors,ols_list_index_4,excess_returns_4[['S/L','S/M','S/H','B/L','B/M','B/H','Russell 3000']],opt_weights_4)"
   ]
  }
 ]
}
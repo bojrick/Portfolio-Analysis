{
 "metadata": {
  "language_info": {
   "codemirror_mode": {
    "name": "ipython",
    "version": 3
   },
   "file_extension": ".py",
   "mimetype": "text/x-python",
   "name": "python",
   "nbconvert_exporter": "python",
   "pygments_lexer": "ipython3",
   "version": "3.8.3-final"
  },
  "orig_nbformat": 2,
  "kernelspec": {
   "name": "python3",
   "display_name": "Python 3"
  }
 },
 "nbformat": 4,
 "nbformat_minor": 2,
 "cells": [
  {
   "cell_type": "code",
   "execution_count": 43,
   "metadata": {},
   "outputs": [],
   "source": [
    "#https://towardsdatascience.com/efficient-frontier-optimize-portfolio-with-scipy-57456428323e\n",
    "import pandas as pd\n",
    "import statsmodels.api as sm\n",
    "import numpy as np\n",
    "from scipy.optimize import minimize,lsq_linear\n",
    "import pulp\n",
    "from function_helper import *\n",
    "from statsmodels.formula.api import glm\n",
    "\n",
    "\n",
    "df = pd.read_excel('Data/fundret.xlsx',skiprows=3,skipfooter=1)#.dropna()\n",
    "df = df.dropna(axis=1,how='all').dropna(axis=0)\n",
    "df['Month'] = pd.to_datetime(df['Month'],format=\"%Y%m\")\n",
    "#df.set_index('Month',inplace=True)\n",
    "df = df.astype(float,errors='ignore')\n",
    "russell = ['Return.1','R1000G', 'R1000V', 'R2000G','R2000V', 'T-Bill']"
   ]
  },
  {
   "cell_type": "code",
   "execution_count": 44,
   "metadata": {},
   "outputs": [],
   "source": [
    "import numpy as np\n",
    "from scipy.optimize import minimize\n",
    "\n",
    "def con_solver(y,m):\n",
    "    def loss(x):\n",
    "        return np.var(np.dot(x, m) - y)\n",
    "    cons = ({'type': 'eq',\n",
    "             'fun' : lambda x: np.sum(x) - 1.0})\n",
    "    x0 = np.zeros(m.shape[0])\n",
    "    res = minimize(loss, x0, method='SLSQP', constraints=cons,\n",
    "                   bounds=[(0, np.inf) for i in range(m.shape[0])], options={'disp': False,  'maxiter':100000})\n",
    "    return (np.round(res.x,5),loss(res.x))#pd.DataFrame(np.round(res.x,5),index=['R1000G', 'R1000V', 'R2000G','R2000V', 'T-Bill'])\n",
    "    #print(loss(res.x))\n",
    "#print(np.dot(res.x, m))\n",
    "#print(np.sum(np.square(np.dot(res.x, m) - y)))"
   ]
  },
  {
   "cell_type": "code",
   "execution_count": 45,
   "metadata": {},
   "outputs": [],
   "source": [
    "from itertools import islice\n",
    "\n",
    "def window(seq, n=2):\n",
    "    \"Returns a sliding window (of width n) over data from the iterable\"\n",
    "    \"   s -> (s0,s1,...s[n-1]), (s1,s2,...,sn), ...                   \"\n",
    "    it = iter(seq)\n",
    "    result = tuple(islice(it, n))\n",
    "    if len(result) == n:\n",
    "        yield np.array(result)\n",
    "    for elem in it:\n",
    "        result = result[1:] + (elem,)\n",
    "        yield np.array(result)"
   ]
  },
  {
   "cell_type": "code",
   "execution_count": 46,
   "metadata": {
    "tags": []
   },
   "outputs": [],
   "source": [
    "M = df[['R1000G', 'R1000V', 'R2000G','R2000V', 'T-Bill']].values\n",
    "Y = np.squeeze(df[['Month','Return.1']].values)\n",
    "df_values = []\n",
    "for y,m in zip(window(Y,n=36),window(M,n=36)):\n",
    "     #print(y.shape,m.shape)\n",
    "     solver = con_solver(y[:,1],np.transpose(m))\n",
    "     df_values.append((y[-1,0],\n",
    "                        solver[0],\n",
    "                        solver[1],\n",
    "                        1-(solver[1]/np.var(y[:,1]))))"
   ]
  },
  {
   "cell_type": "code",
   "execution_count": 47,
   "metadata": {},
   "outputs": [],
   "source": [
    "pd.set_option('display.max_rows', 500)\n",
    "pd.set_option('display.max_columns', 500)\n",
    "pd.set_option('display.width', 1000)\n",
    "answer = pd.DataFrame(df_values,columns=['date','weights','residual variance','Rsquared'])"
   ]
  },
  {
   "cell_type": "code",
   "execution_count": 52,
   "metadata": {},
   "outputs": [
    {
     "output_type": "execute_result",
     "data": {
      "text/plain": [
       "          0\n",
       "0  0.930922\n",
       "1  0.978915\n",
       "2  0.935980"
      ],
      "text/html": "<div>\n<style scoped>\n    .dataframe tbody tr th:only-of-type {\n        vertical-align: middle;\n    }\n\n    .dataframe tbody tr th {\n        vertical-align: top;\n    }\n\n    .dataframe thead th {\n        text-align: right;\n    }\n</style>\n<table border=\"1\" class=\"dataframe\">\n  <thead>\n    <tr style=\"text-align: right;\">\n      <th></th>\n      <th>0</th>\n    </tr>\n  </thead>\n  <tbody>\n    <tr>\n      <th>0</th>\n      <td>0.930922</td>\n    </tr>\n    <tr>\n      <th>1</th>\n      <td>0.978915</td>\n    </tr>\n    <tr>\n      <th>2</th>\n      <td>0.935980</td>\n    </tr>\n  </tbody>\n</table>\n</div>"
     },
     "metadata": {},
     "execution_count": 52
    }
   ],
   "source": [
    "pd.DataFrame((answer[answer['date'].astype(str)=='1999-12-01']['Rsquared'].values,\n",
    "              answer[answer['date'].astype(str)=='2009-12-01']['Rsquared'].values,\n",
    "              answer[answer['date'].astype(str)=='2019-12-01']['Rsquared'].values))"
   ]
  },
  {
   "cell_type": "code",
   "execution_count": 49,
   "metadata": {},
   "outputs": [],
   "source": [
    "final_answer = pd.DataFrame(np.vstack([answer[answer['date'].astype(str)=='1999-12-01']['weights'].values[0],\n",
    "                        answer[answer['date'].astype(str)=='2009-12-01']['weights'].values[0],\n",
    "                        answer[answer['date'].astype(str)=='2019-12-01']['weights'].values[0]],),columns=['R1000G', 'R1000V', 'R2000G','R2000V', 'T-Bill'],index = [2000,2010,2020])"
   ]
  }
 ]
}
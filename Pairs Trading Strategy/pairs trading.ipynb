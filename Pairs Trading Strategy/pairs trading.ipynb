{
 "metadata": {
  "language_info": {
   "codemirror_mode": {
    "name": "ipython",
    "version": 3
   },
   "file_extension": ".py",
   "mimetype": "text/x-python",
   "name": "python",
   "nbconvert_exporter": "python",
   "pygments_lexer": "ipython3",
   "version": "3.8.3-final"
  },
  "orig_nbformat": 2,
  "kernelspec": {
   "name": "Python 3.8.3 64-bit (conda)",
   "display_name": "Python 3.8.3 64-bit (conda)",
   "metadata": {
    "interpreter": {
     "hash": "ecf5722fdaf1897a315d257d89d94520bfcaa453217d5becf09b39e73618b0de"
    }
   }
  }
 },
 "nbformat": 4,
 "nbformat_minor": 2,
 "cells": [
  {
   "cell_type": "code",
   "execution_count": 38,
   "metadata": {},
   "outputs": [],
   "source": [
    "import numpy as np\n",
    "import pandas as pd\n",
    "\n",
    "import statsmodels\n",
    "import statsmodels.api as sm\n",
    "from statsmodels.tsa.stattools import coint\n",
    "# just set the seed for the random number generator\n",
    "np.random.seed(107)\n",
    "\n",
    "import matplotlib.pyplot as plt\n",
    "import yfinance as yf"
   ]
  },
  {
   "cell_type": "code",
   "execution_count": 39,
   "metadata": {},
   "outputs": [],
   "source": [
    "data_path = 'd:\\\\Google Drive Backup\\\\FIN 512\\\\Data'"
   ]
  },
  {
   "cell_type": "code",
   "execution_count": 40,
   "metadata": {},
   "outputs": [],
   "source": [
    "sic_tick = pd.read_excel(data_path+'\\\\SIC and Ticker.xlsx').dropna()\n",
    "sic_tick = sic_tick[sic_tick['HSICCD'].astype(str).str.contains('283')]\n",
    "ticks_283 = ' '.join(sic_tick['HTICK'].values)"
   ]
  },
  {
   "cell_type": "code",
   "execution_count": 123,
   "metadata": {},
   "outputs": [
    {
     "output_type": "stream",
     "name": "stdout",
     "text": [
      "[*********************100%***********************]  200 of 200 completed\n",
      "\n",
      "49 Failed downloads:\n",
      "- MDCO: No data found, symbol may be delisted\n",
      "- MLND: Data doesn't exist for startDate = 946706400, endDate = 1262239200\n",
      "- STML: No data found, symbol may be delisted\n",
      "- FENC: Data doesn't exist for startDate = 946706400, endDate = 1262239200\n",
      "- LJPC: Data doesn't exist for startDate = 946706400, endDate = 1262239200\n",
      "- BPMX: No data found, symbol may be delisted\n",
      "- AXGT: Data doesn't exist for startDate = 946706400, endDate = 1262239200\n",
      "- XTNT: Data doesn't exist for startDate = 946706400, endDate = 1262239200\n",
      "- RDUS: Data doesn't exist for startDate = 946706400, endDate = 1262239200\n",
      "- CBAY: Data doesn't exist for startDate = 946706400, endDate = 1262239200\n",
      "- TGTX: Data doesn't exist for startDate = 946706400, endDate = 1262239200\n",
      "- ZSAN: Data doesn't exist for startDate = 946706400, endDate = 1262239200\n",
      "- ELAN: Data doesn't exist for startDate = 946706400, endDate = 1262239200\n",
      "- ZTS: Data doesn't exist for startDate = 946706400, endDate = 1262239200\n",
      "- SPHS: Data doesn't exist for startDate = 946706400, endDate = 1262239200\n",
      "- AMPE: Data doesn't exist for startDate = 946706400, endDate = 1262239200\n",
      "- ATRA: Data doesn't exist for startDate = 946706400, endDate = 1262239200\n",
      "- RIOT: Data doesn't exist for startDate = 946706400, endDate = 1262239200\n",
      "- HEPA: Data doesn't exist for startDate = 946706400, endDate = 1262239200\n",
      "- ALT: Data doesn't exist for startDate = 946706400, endDate = 1262239200\n",
      "- AGRX: Data doesn't exist for startDate = 946706400, endDate = 1262239200\n",
      "- OCUL: Data doesn't exist for startDate = 946706400, endDate = 1262239200\n",
      "- RCUS: Data doesn't exist for startDate = 946706400, endDate = 1262239200\n",
      "- ACHN: No data found, symbol may be delisted\n",
      "- FBIO: Data doesn't exist for startDate = 946706400, endDate = 1262239200\n",
      "- ACB: Data doesn't exist for startDate = 946706400, endDate = 1262239200\n",
      "- PHIO: Data doesn't exist for startDate = 946706400, endDate = 1262239200\n",
      "- MTNB: Data doesn't exist for startDate = 946706400, endDate = 1262239200\n",
      "- ATNM: Data doesn't exist for startDate = 946706400, endDate = 1262239200\n",
      "- EARS: Data doesn't exist for startDate = 946706400, endDate = 1262239200\n",
      "- KDMN: Data doesn't exist for startDate = 946706400, endDate = 1262239200\n",
      "- AGN: No data found, symbol may be delisted\n",
      "- ARDX: Data doesn't exist for startDate = 946706400, endDate = 1262239200\n",
      "- NVUS: Data doesn't exist for startDate = 946706400, endDate = 1262239200\n",
      "- ZOM: Data doesn't exist for startDate = 946706400, endDate = 1262239200\n",
      "- CRMD: Data doesn't exist for startDate = 946706400, endDate = 1262239200\n",
      "- ABBV: Data doesn't exist for startDate = 946706400, endDate = 1262239200\n",
      "- TAK: Data doesn't exist for startDate = 946706400, endDate = 1262239200\n",
      "- MYOV: Data doesn't exist for startDate = 946706400, endDate = 1262239200\n",
      "- PBYI: Data doesn't exist for startDate = 946706400, endDate = 1262239200\n",
      "- MNK: Data doesn't exist for startDate = 946706400, endDate = 1262239200\n",
      "- CORV: No data found, symbol may be delisted\n",
      "- ARQL: No data found, symbol may be delisted\n",
      "- CTLT: Data doesn't exist for startDate = 946706400, endDate = 1262239200\n",
      "- PHGE: Data doesn't exist for startDate = 946706400, endDate = 1262239200\n",
      "- SNCA: No data found for this date range, symbol may be delisted\n",
      "- AKRX: No data found, symbol may be delisted\n",
      "- SVRA: Data doesn't exist for startDate = 946706400, endDate = 1262239200\n",
      "- AGE: Data doesn't exist for startDate = 946706400, endDate = 1262239200\n"
     ]
    }
   ],
   "source": [
    "data = yf.download(ticks_283, start=\"2000-01-01\", end=\"2009-12-31\")"
   ]
  },
  {
   "cell_type": "code",
   "execution_count": 129,
   "metadata": {},
   "outputs": [],
   "source": [
    "adj_close_data = data[('Adj Close')].dropna(axis=1,how='all')#.isna().sum()>10\n",
    "adj_close_data = adj_close_data[[i for i,j in pd.Series(adj_close_data.isna().sum(axis=0)==2).items() if j==True]]"
   ]
  },
  {
   "cell_type": "code",
   "execution_count": 138,
   "metadata": {},
   "outputs": [],
   "source": [
    "def find_cointegrated_pairs(data):\n",
    "    n = data.shape[1]\n",
    "    score_matrix = np.zeros((n, n))\n",
    "    pvalue_matrix = np.ones((n, n))\n",
    "    keys = data.keys()\n",
    "    scores = []\n",
    "    pvalues = []\n",
    "    count = 0\n",
    "    for i in range(n):\n",
    "        for j in range(i+1, n):\n",
    "            S1 = data[keys[i]]\n",
    "            S2 = data[keys[j]]\n",
    "            result = coint(S1, S2)\n",
    "            scores.append((keys[i], keys[j],result[0]))\n",
    "            pvalues.append((keys[i], keys[j],result[1]))\n",
    "            count+=1\n",
    "            if count%1000==0:\n",
    "                print(str(count)+' Pairs done..!!')\n",
    "    return scores,pvalues"
   ]
  },
  {
   "cell_type": "code",
   "execution_count": 139,
   "metadata": {},
   "outputs": [
    {
     "output_type": "stream",
     "name": "stdout",
     "text": [
      "1000 Pairs done..!!\n",
      "2000 Pairs done..!!\n",
      "3000 Pairs done..!!\n",
      "4000 Pairs done..!!\n"
     ]
    }
   ],
   "source": [
    "coint_values = find_cointegrated_pairs(adj_close_data.dropna())"
   ]
  },
  {
   "cell_type": "code",
   "execution_count": 148,
   "metadata": {},
   "outputs": [],
   "source": [
    "pd.pivot(pd.DataFrame(coint_values[1]),index=0,columns=1).to_csv('pvalues.csv')"
   ]
  },
  {
   "cell_type": "code",
   "execution_count": 111,
   "metadata": {},
   "outputs": [
    {
     "output_type": "execute_result",
     "data": {
      "text/plain": [
       "1535"
      ]
     },
     "metadata": {},
     "execution_count": 111
    }
   ],
   "source": [
    "len(pairs)"
   ]
  },
  {
   "cell_type": "code",
   "execution_count": 21,
   "metadata": {},
   "outputs": [],
   "source": [
    "import pandas as pd\n",
    "\n",
    "pvalues = pd.read_csv('final pvalues.csv',sep=',')"
   ]
  },
  {
   "cell_type": "code",
   "execution_count": 137,
   "metadata": {},
   "outputs": [],
   "source": [
    "top_mark = ['JNJ', 'PFE', 'MRK', 'TEVA', 'AMGN', 'BMY', 'LLY', 'GILD', 'BIIB',\n",
    "       'BHC', 'MYL', 'ALXN', 'VRTX', 'PRGO', 'QGEN', 'IDXX', 'UTHR', 'BMRN',\n",
    "       'REGN', 'TECH']\n",
    "pvalues[pvalues['company A'].isin(top_mark)].sort_values('pvalue').to_csv('filtered_pairs.csv')"
   ]
  },
  {
   "cell_type": "code",
   "execution_count": 92,
   "metadata": {},
   "outputs": [],
   "source": [
    "def get_marketcap(tick):\n",
    "    return pd.read_csv('https://fmpcloud.io/api/v3/historical-market-capitalization/'+tick+'?datatype=csv&period=quarter&apikey=4236aeb9edb3d547b97701ace0027d75')"
   ]
  },
  {
   "cell_type": "code",
   "execution_count": 93,
   "metadata": {},
   "outputs": [],
   "source": [
    "market_caps = {tick:get_marketcap(tick) for tick in pvalues['company A'].unique()}"
   ]
  },
  {
   "cell_type": "code",
   "execution_count": 105,
   "metadata": {},
   "outputs": [
    {
     "output_type": "execute_result",
     "data": {
      "text/plain": [
       "            date    marketCap\n",
       "2481  2010-12-30  409716540.0"
      ],
      "text/html": "<div>\n<style scoped>\n    .dataframe tbody tr th:only-of-type {\n        vertical-align: middle;\n    }\n\n    .dataframe tbody tr th {\n        vertical-align: top;\n    }\n\n    .dataframe thead th {\n        text-align: right;\n    }\n</style>\n<table border=\"1\" class=\"dataframe\">\n  <thead>\n    <tr style=\"text-align: right;\">\n      <th></th>\n      <th>date</th>\n      <th>marketCap</th>\n    </tr>\n  </thead>\n  <tbody>\n    <tr>\n      <th>2481</th>\n      <td>2010-12-30</td>\n      <td>409716540.0</td>\n    </tr>\n  </tbody>\n</table>\n</div>"
     },
     "metadata": {},
     "execution_count": 105
    }
   ],
   "source": [
    "market_caps['NYMX'][market_caps['NYMX']['date']=='2010-12-30']"
   ]
  },
  {
   "cell_type": "code",
   "execution_count": 82,
   "metadata": {},
   "outputs": [],
   "source": [
    "for tick in market_caps.keys():\n",
    "    market_caps[tick]['date'] = pd.to_datetime(market_caps[tick]['date']).dt.to_period('Y')"
   ]
  },
  {
   "cell_type": "code",
   "execution_count": 111,
   "metadata": {},
   "outputs": [],
   "source": [
    "mark_cap_2010 = {tick:market_caps[tick][market_caps[tick]['date']=='2010-12-30']['marketCap'].values for tick in pvalues['company A'].unique() if len(market_caps[tick][market_caps[tick]['date']=='2010-12-30']['marketCap'].values)!=0}"
   ]
  },
  {
   "cell_type": "code",
   "execution_count": 122,
   "metadata": {},
   "outputs": [
    {
     "output_type": "execute_result",
     "data": {
      "text/plain": [
       "                 0\n",
       "BBI   1.463700e+08\n",
       "ABIO  2.426760e+07\n",
       "ARMP  2.292189e+14\n",
       "GERN  4.979532e+08\n",
       "SRPT  2.426112e+08\n",
       "...            ...\n",
       "TTNP  7.279200e+07\n",
       "BSTC  1.828028e+08\n",
       "WST   1.555704e+09\n",
       "VIVO  9.744440e+08\n",
       "VRTX  7.117476e+09\n",
       "\n",
       "[85 rows x 1 columns]"
      ],
      "text/html": "<div>\n<style scoped>\n    .dataframe tbody tr th:only-of-type {\n        vertical-align: middle;\n    }\n\n    .dataframe tbody tr th {\n        vertical-align: top;\n    }\n\n    .dataframe thead th {\n        text-align: right;\n    }\n</style>\n<table border=\"1\" class=\"dataframe\">\n  <thead>\n    <tr style=\"text-align: right;\">\n      <th></th>\n      <th>0</th>\n    </tr>\n  </thead>\n  <tbody>\n    <tr>\n      <th>BBI</th>\n      <td>1.463700e+08</td>\n    </tr>\n    <tr>\n      <th>ABIO</th>\n      <td>2.426760e+07</td>\n    </tr>\n    <tr>\n      <th>ARMP</th>\n      <td>2.292189e+14</td>\n    </tr>\n    <tr>\n      <th>GERN</th>\n      <td>4.979532e+08</td>\n    </tr>\n    <tr>\n      <th>SRPT</th>\n      <td>2.426112e+08</td>\n    </tr>\n    <tr>\n      <th>...</th>\n      <td>...</td>\n    </tr>\n    <tr>\n      <th>TTNP</th>\n      <td>7.279200e+07</td>\n    </tr>\n    <tr>\n      <th>BSTC</th>\n      <td>1.828028e+08</td>\n    </tr>\n    <tr>\n      <th>WST</th>\n      <td>1.555704e+09</td>\n    </tr>\n    <tr>\n      <th>VIVO</th>\n      <td>9.744440e+08</td>\n    </tr>\n    <tr>\n      <th>VRTX</th>\n      <td>7.117476e+09</td>\n    </tr>\n  </tbody>\n</table>\n<p>85 rows × 1 columns</p>\n</div>"
     },
     "metadata": {},
     "execution_count": 122
    }
   ],
   "source": [
    "pd.DataFrame(mark_cap_2010).transpose()"
   ]
  },
  {
   "cell_type": "code",
   "execution_count": 138,
   "metadata": {},
   "outputs": [],
   "source": [
    "pd.DataFrame(mark_cap_2010).transpose().sort_values(0,ascending=False).drop(['ARMP','BCRX']).to_csv('market_cap.csv')"
   ]
  }
 ]
}
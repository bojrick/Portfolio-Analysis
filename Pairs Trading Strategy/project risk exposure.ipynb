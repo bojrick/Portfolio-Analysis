{
 "metadata": {
  "language_info": {
   "codemirror_mode": {
    "name": "ipython",
    "version": 3
   },
   "file_extension": ".py",
   "mimetype": "text/x-python",
   "name": "python",
   "nbconvert_exporter": "python",
   "pygments_lexer": "ipython3",
   "version": "3.8.3-final"
  },
  "orig_nbformat": 2,
  "kernelspec": {
   "name": "python3",
   "display_name": "Python 3"
  }
 },
 "nbformat": 4,
 "nbformat_minor": 2,
 "cells": [
  {
   "cell_type": "code",
   "execution_count": 1,
   "metadata": {},
   "outputs": [],
   "source": [
    "import pandas as pd\n",
    "import statsmodels.api as sm\n",
    "import numpy as np\n",
    "from scipy.optimize import minimize\n",
    "import pulp\n",
    "from function_helper import *\n",
    "\n",
    "df = pd.read_csv('project data.csv',skipfooter=2).dropna()\n",
    "df = df.rename({'ï»¿date':'date'},axis=1)\n",
    "df = df[df['date']>199612]\n",
    "df['date'] = df['date'].astype(str)"
   ]
  },
  {
   "cell_type": "code",
   "execution_count": 2,
   "metadata": {},
   "outputs": [],
   "source": [
    "prices = pd.read_csv('monthly port prices.gz',compression='gzip',usecols=['date','TICKER','RETX'])\n",
    "prices['date'] = prices['date'].apply(lambda x:str(x)[:6])"
   ]
  },
  {
   "cell_type": "code",
   "execution_count": 3,
   "metadata": {},
   "outputs": [],
   "source": [
    "temp_merge = df\n",
    "for key in prices.groupby('TICKER').groups.keys():\n",
    "    temp_merge = temp_merge.merge(prices.groupby('TICKER').get_group(key)[['date','RETX']],on='date',how='left')\n",
    "    temp_merge = temp_merge.rename({'RETX':key},axis=1)\n"
   ]
  },
  {
   "cell_type": "code",
   "execution_count": 4,
   "metadata": {},
   "outputs": [],
   "source": [
    "final_df = temp_merge[['date','T-Bill','RMRF','SMB','HML','UMD','AMGN','PFE','TECH','REGN','GILD','BMY','IART','MRK','LLY','ALXN','PRGO','MYL','IDXX','IMGN','BMRN','TEVA']]\n",
    "final_df = final_df.dropna(how='all')\n",
    "final_df = final_df.replace({'C':None})\n",
    "final_df = final_df.astype(float)\n",
    "final_df['date'] = pd.to_datetime(final_df['date'],format='%Y%m').dt.to_period('M')\n",
    "final_df = final_df.set_index('date')"
   ]
  },
  {
   "cell_type": "code",
   "execution_count": 21,
   "metadata": {},
   "outputs": [],
   "source": [
    "import numpy as np\n",
    "port_holds = pd.read_csv('final_port.csv').drop('Unnamed: 0',axis=1)\n",
    "FF_factors = final_df[['RMRF','SMB','HML','UMD']]\n",
    "excess_returns = [final_df[port_holds.values[idx][1:]].subtract(final_df['T-Bill'],axis=0) for idx in range(len(port_holds))]\n",
    "\n",
    "tables = [[df.loc[:str(idx)+'-12'],FF_factors[:str(idx)+'-12']] for df,idx in zip(excess_returns,range(2006,2017))]\n"
   ]
  },
  {
   "cell_type": "code",
   "execution_count": 22,
   "metadata": {},
   "outputs": [],
   "source": [
    "ols_list = ols(tables[0][0],tables[0][1]) "
   ]
  },
  {
   "cell_type": "code",
   "execution_count": 23,
   "metadata": {},
   "outputs": [],
   "source": [
    "def optimize_1(returns_df,no_securities,risk_factors_df,ols_list, target_return=0.1):\n",
    "\n",
    "    init_guess = np.array(no_securities*[1./no_securities,])\n",
    "\n",
    "    bounds = ((-1.5, 1.5),) * no_securities\n",
    "\n",
    "    weights = minimize(factor_portfolio_variance, init_guess,\n",
    "                       args=(risk_factors_df,ols_list,), method='SLSQP',\n",
    "                       options={'disp': False},\n",
    "                       constraints=({'type': 'eq', 'fun': lambda inputs: np.sum(inputs)-1}))\n",
    "                                    #{'type': 'ineq', \n",
    "                                    #'args': (returns_df,),\n",
    "                                    #'fun': lambda inputs, returns_df,:portfolio_return(weights=inputs,returns_df=returns_df)-target_return}))\n",
    "                                    #{'type':'eq',\n",
    "                                    #'args':(risk_factors_df,ols_list,),\n",
    "                                    #'fun':lambda inputs,risk_factors_df,ols_list:factor_portfolio_variance(weights=inputs,risk_factors_df=risk_factors_df,ols_list=ols_list)}\n",
    "                                    #),bounds=bounds)\n",
    "    return weights.x\n",
    "\n",
    "opt_weights = optimize_1(returns_df = tables[0][0],\n",
    "        no_securities=4,\n",
    "        risk_factors_df=tables[0][1],\n",
    "        ols_list=ols_list,\n",
    "        target_return=1/12)"
   ]
  },
  {
   "cell_type": "code",
   "execution_count": 24,
   "metadata": {},
   "outputs": [],
   "source": [
    "def get_answer(table):\n",
    "    weights = optimize_1(returns_df = table[0],no_securities=4,risk_factors_df=table[1],ols_list=ols(table[0],table[1]), target_return=1/12)\n",
    "    return display_answer(table[1],ols_list,table[1],weights)"
   ]
  },
  {
   "cell_type": "code",
   "execution_count": 25,
   "metadata": {},
   "outputs": [],
   "source": [
    "ols_tables = [ols(table[0],table[1]) for table in tables]"
   ]
  },
  {
   "cell_type": "code",
   "execution_count": 27,
   "metadata": {},
   "outputs": [],
   "source": [
    "pd.concat([port_holds,pd.DataFrame([get_answer(table) for table in tables])],axis=1).to_csv('fama_french_analysis.csv')"
   ]
  }
 ]
}